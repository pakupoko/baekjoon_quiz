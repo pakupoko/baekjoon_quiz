{
 "cells": [
  {
   "cell_type": "code",
   "execution_count": 5,
   "metadata": {},
   "outputs": [
    {
     "name": "stdout",
     "output_type": "stream",
     "text": [
      "3\n",
      "0\n",
      "1 0\n",
      "1\n",
      "0 1\n",
      "3\n",
      "1 2\n"
     ]
    }
   ],
   "source": [
    "a = int(input())\n",
    "for i in range(a):\n",
    "    n = int(input())\n",
    "    ls=[1,0]\n",
    "    new_ls=[0,1]\n",
    "    if n == 0:\n",
    "        print(ls[0], ls[1])\n",
    "    elif n == 1:\n",
    "        print(new_ls[0], new_ls[1])\n",
    "    else:\n",
    "        for j in range(1, n):\n",
    "            tmp = new_ls.copy()\n",
    "            new_ls[0]+=ls[0]\n",
    "            new_ls[1]+=ls[1]\n",
    "            ls=tmp\n",
    "        \n",
    "        print(new_ls[0], new_ls[1])\n",
    "    "
   ]
  },
  {
   "cell_type": "code",
   "execution_count": null,
   "metadata": {},
   "outputs": [],
   "source": []
  }
 ],
 "metadata": {
  "kernelspec": {
   "display_name": "Python 3",
   "language": "python",
   "name": "python3"
  },
  "language_info": {
   "codemirror_mode": {
    "name": "ipython",
    "version": 3
   },
   "file_extension": ".py",
   "mimetype": "text/x-python",
   "name": "python",
   "nbconvert_exporter": "python",
   "pygments_lexer": "ipython3",
   "version": "3.6.6"
  }
 },
 "nbformat": 4,
 "nbformat_minor": 2
}
