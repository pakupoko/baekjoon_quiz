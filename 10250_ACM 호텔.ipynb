{
 "cells": [
  {
   "cell_type": "code",
   "execution_count": 3,
   "metadata": {},
   "outputs": [
    {
     "name": "stdout",
     "output_type": "stream",
     "text": [
      "1\n",
      "2 2 4\n",
      "202\n"
     ]
    }
   ],
   "source": [
    "guest = int(input())\n",
    "\n",
    "for i in range(guest):\n",
    "    h, w, n = map(int, input().split())\n",
    "    if n % h == 0:\n",
    "        floor = h\n",
    "    else:\n",
    "        floor = n % h\n",
    "    if n / h == n // h:\n",
    "        room = n // h\n",
    "    else:\n",
    "        room = round(n / h + 0.5)\n",
    "    \n",
    "    print(floor * 100 + room)"
   ]
  },
  {
   "cell_type": "code",
   "execution_count": null,
   "metadata": {},
   "outputs": [],
   "source": []
  }
 ],
 "metadata": {
  "kernelspec": {
   "display_name": "Python 3",
   "language": "python",
   "name": "python3"
  },
  "language_info": {
   "codemirror_mode": {
    "name": "ipython",
    "version": 3
   },
   "file_extension": ".py",
   "mimetype": "text/x-python",
   "name": "python",
   "nbconvert_exporter": "python",
   "pygments_lexer": "ipython3",
   "version": "3.6.6"
  }
 },
 "nbformat": 4,
 "nbformat_minor": 2
}
