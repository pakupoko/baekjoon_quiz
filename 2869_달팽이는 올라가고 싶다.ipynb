{
 "cells": [
  {
   "cell_type": "code",
   "execution_count": 7,
   "metadata": {},
   "outputs": [
    {
     "name": "stdout",
     "output_type": "stream",
     "text": [
      "5 2 10\n",
      "3\n"
     ]
    }
   ],
   "source": [
    "a, b, v = map(int, input().split())\n",
    "if a == v:\n",
    "    print(1)\n",
    "else:\n",
    "    v = v - a\n",
    "    if v/(a-b) == v //(a-b):\n",
    "        days = v//(a-b)\n",
    "    else:\n",
    "        days = round(v/(a-b) + 0.5)\n",
    "    print(days + 1)"
   ]
  },
  {
   "cell_type": "code",
   "execution_count": null,
   "metadata": {},
   "outputs": [],
   "source": []
  }
 ],
 "metadata": {
  "kernelspec": {
   "display_name": "Python 3",
   "language": "python",
   "name": "python3"
  },
  "language_info": {
   "codemirror_mode": {
    "name": "ipython",
    "version": 3
   },
   "file_extension": ".py",
   "mimetype": "text/x-python",
   "name": "python",
   "nbconvert_exporter": "python",
   "pygments_lexer": "ipython3",
   "version": "3.6.6"
  }
 },
 "nbformat": 4,
 "nbformat_minor": 2
}
