{
 "cells": [
  {
   "cell_type": "code",
   "execution_count": 33,
   "metadata": {},
   "outputs": [
    {
     "name": "stdout",
     "output_type": "stream",
     "text": [
      "4\n",
      "3/1\n"
     ]
    }
   ],
   "source": [
    "x = int(input())\n",
    "cnt = 1\n",
    "first = 1\n",
    "while True:\n",
    "    if x >= first+cnt:\n",
    "        first += cnt\n",
    "        cnt += 1\n",
    "    else:\n",
    "        if cnt % 2 != 0:\n",
    "            a = cnt - (x-first)\n",
    "            b = 1 + (x-first)\n",
    "        else:\n",
    "            a = 1 + (x-first)\n",
    "            b = cnt - (x-first)\n",
    "        print(f\"{a}/{b}\")\n",
    "        break\n",
    "            "
   ]
  },
  {
   "cell_type": "code",
   "execution_count": null,
   "metadata": {},
   "outputs": [],
   "source": []
  }
 ],
 "metadata": {
  "kernelspec": {
   "display_name": "Python 3",
   "language": "python",
   "name": "python3"
  },
  "language_info": {
   "codemirror_mode": {
    "name": "ipython",
    "version": 3
   },
   "file_extension": ".py",
   "mimetype": "text/x-python",
   "name": "python",
   "nbconvert_exporter": "python",
   "pygments_lexer": "ipython3",
   "version": "3.6.6"
  }
 },
 "nbformat": 4,
 "nbformat_minor": 2
}
