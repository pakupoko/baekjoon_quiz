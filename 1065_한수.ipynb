{
 "cells": [
  {
   "cell_type": "markdown",
   "metadata": {},
   "source": [
    "# 한수\n",
    "<hr>\n",
    "전형적인 브루트 포스 문제. 모든 경우의 수를 따져보고 결과값을 도출한다.\n",
    "\n",
    "여기서는 특정 범위에서 자리수가 등차수열을 이루는 값들을 모두 찾아야 했다.\n",
    "\n",
    "자리수는 10으로 나눴을 때의 몫과 나머지를 통해 표현했고, 각 값을 리스트에 넣은 후, 초기 체크 값을 리스트 0번째, 1번째 자리의 차이로 만들었다.\n",
    "\n",
    "그리고 반복문을 사용하여 다음 순서의 차이를 구한 후 체크 값과 비교하는 방식으로 등차 수열임을 판단했다."
   ]
  },
  {
   "cell_type": "code",
   "execution_count": 9,
   "metadata": {},
   "outputs": [
    {
     "name": "stdout",
     "output_type": "stream",
     "text": [
      "1000\n",
      "144\n"
     ]
    }
   ],
   "source": [
    "n = int(input()) #최대 범위의 값 입력\n",
    "\n",
    "cnt = 0\n",
    "\n",
    "#1부터 n까지의 자연수 들 중에서 '한수' 탐색\n",
    "for x in range(1, n+1):\n",
    "    if x == 1: #1이면 그냥 넘긴다\n",
    "        cnt += 1\n",
    "        continue\n",
    "        \n",
    "    ls = []\n",
    "    #10의 몫과 나머지를 구하는 방식으로 자리수 구분.\n",
    "    while x>=1:\n",
    "        ls.append(x % 10)\n",
    "        x = int(x/10)\n",
    "    #자리수가 1개 혹은 2개 일 경우 등차수열인지 판단 불가. 여기서는 모두 카운팅했다.\n",
    "    if len(ls) == 1 or len(ls) == 2:\n",
    "        cnt += 1\n",
    "    else:\n",
    "        chk = ls[1] - ls[0] #기준 체크 값 산출\n",
    "        flag = 0\n",
    "        for i in range(2, len(ls)):\n",
    "            if chk != (ls[i] - ls[i-1]): #해당 시점의 자리수와 이전 시점의 자리수를 뺀 뒤, 기준 값과 비교한다.\n",
    "                flag = 1 #다를 경우 플래그를 걸어둠\n",
    "                break\n",
    "        if flag == 0: #모든 값이 기준 값과 동일(등차 수열을 이룬다)할 경우 카운팅.\n",
    "            cnt += 1\n",
    "            \n",
    "print(cnt)"
   ]
  }
 ],
 "metadata": {
  "kernelspec": {
   "display_name": "Python 3",
   "language": "python",
   "name": "python3"
  },
  "language_info": {
   "codemirror_mode": {
    "name": "ipython",
    "version": 3
   },
   "file_extension": ".py",
   "mimetype": "text/x-python",
   "name": "python",
   "nbconvert_exporter": "python",
   "pygments_lexer": "ipython3",
   "version": "3.7.3"
  }
 },
 "nbformat": 4,
 "nbformat_minor": 2
}
