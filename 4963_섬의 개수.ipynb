{
 "cells": [
  {
   "cell_type": "markdown",
   "metadata": {},
   "source": [
    "# 섬의 개수\n",
    "<hr>\n",
    "너비 우선 탐색을 활용한 문제. 섬(1)에 해당하는 값을 탐색하면, 그 주변으로 연결되어 있는 육지가 있는 지 탐색, 전부 0으로 만들어 버린다.\n",
    "\n",
    "주변을 탐색하는 건 좌표로써 표시. [0,0] 번을 제외한 전 후 좌 우 대각선 8방향을 탐색하여, 1이 존재할 경우 0으로 바꾼다.\n",
    "\n",
    "1이 존재했던 좌표들을 데크에 집어 넣고(오른쪽으로 들어간다), 왼쪽에서 빼내고, 빼낸 좌표를 위의 과정에 다시 반복 시킨다."
   ]
  },
  {
   "cell_type": "code",
   "execution_count": null,
   "metadata": {},
   "outputs": [],
   "source": [
    "import collections\n",
    "\n",
    "#너비 우선 탐색 함수\n",
    "def bfs(v):\n",
    "    #데크를 생성하고 기준으로 들어온 좌표를 넣어둔다.\n",
    "    q = collections.deque()\n",
    "    q.append(v)\n",
    "    \n",
    "    #8방향 탐색. 데크에 값이 없을 때 까지 탐색을 진행한다.\n",
    "    while q:\n",
    "        v = q.popleft() # 맨 왼쪽 값을 제거한다.\n",
    "        for a in range(8): # 8방향 탐색을 위해 반복문 사용\n",
    "            i = v[0] + di[a]# 좌표 계산. di는 8방향의 행 값이 들어가 있다.\n",
    "            j = v[1] + dj[a]# 좌표 계산. dj는 8방향의 열 값이 들어가 있다.\n",
    "            if 0 <= i <= h-1 and 0 <= j <= w-1 and ocean[i][j]: # 1-8방향에 속하는 좌표가 유효한 좌표인지, 2-해당 좌표가 육지인지 확인\n",
    "                ocean[i][j] = 0 # 육지를 0으로 바꿔 다음 탐색 때 걸리지 않게 함\n",
    "                q.append([i,j]) # 해당 육지 좌표를 데크에 넣어 탐색의 대상이 되게 설정\n",
    "#8방향 좌표 설정\n",
    "di = [-1, -1, -1, 0, 0, 1, 1, 1]\n",
    "dj = [-1, 0, 1, -1, 1, -1, 0, 1]\n",
    "\n",
    "while True:\n",
    "    w, h = map(int, input().split()) #지역의 너비와 높이를 받아옴\n",
    "    if w == 0 and h == 0: # 들어오는 모든 값이 0 0 이면 코드 종료\n",
    "        break\n",
    "    ocean = [list(map(int, input().split())) for _ in range(h)] # 높이의 수에 맞게끔 데이터를 받아온다.\n",
    "    cnt = 0 # 섬의 갯수 변수\n",
    "    \n",
    "    #좌표 하나하나를 탐색하면서 육지가 있는지 확인\n",
    "    for i in range(h):\n",
    "        for j in range(w):\n",
    "            if ocean[i][j]: #육지(1)가 있으면 일단 검색한다.\n",
    "                cnt += 1 #바로 갯수 추가. BFS 함수에서 연결된 육지는 모두 제거 되기에 중복 증가 X\n",
    "                bfs([i, j]) #해당 좌표를 넣고 주변 탐색\n",
    "    \n",
    "    print(cnt)"
   ]
  }
 ],
 "metadata": {
  "kernelspec": {
   "display_name": "Python 3",
   "language": "python",
   "name": "python3"
  },
  "language_info": {
   "codemirror_mode": {
    "name": "ipython",
    "version": 3
   },
   "file_extension": ".py",
   "mimetype": "text/x-python",
   "name": "python",
   "nbconvert_exporter": "python",
   "pygments_lexer": "ipython3",
   "version": "3.7.3"
  }
 },
 "nbformat": 4,
 "nbformat_minor": 2
}
