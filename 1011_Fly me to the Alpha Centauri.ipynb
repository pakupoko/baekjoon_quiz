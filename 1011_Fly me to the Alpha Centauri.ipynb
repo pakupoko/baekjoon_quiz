{
 "cells": [
  {
   "cell_type": "code",
   "execution_count": 18,
   "metadata": {},
   "outputs": [
    {
     "name": "stdout",
     "output_type": "stream",
     "text": [
      "1\n",
      "0 1\n",
      "1\n"
     ]
    }
   ],
   "source": [
    "num = int(input())\n",
    "\n",
    "for i in range(num):\n",
    "    a,b = map(int,input().split())\n",
    "    n = b-a\n",
    "    \n",
    "    if n == 1:\n",
    "        print(1)\n",
    "        continue\n",
    "        \n",
    "    ls = []\n",
    "    k=1\n",
    "    cnt = 0\n",
    "    \n",
    "    while True:\n",
    "        if n - k*2 < 0:\n",
    "            break\n",
    "        ls.extend([k,k])\n",
    "        n -= k*2\n",
    "        k +=1\n",
    "    if n == 0:\n",
    "        plus = 0\n",
    "    elif n<=ls[-1]+1:\n",
    "        plus = 1\n",
    "    else:\n",
    "        plus = 2\n",
    "    print(len(ls)+plus)"
   ]
  },
  {
   "cell_type": "code",
   "execution_count": null,
   "metadata": {},
   "outputs": [],
   "source": []
  }
 ],
 "metadata": {
  "kernelspec": {
   "display_name": "Python 3",
   "language": "python",
   "name": "python3"
  },
  "language_info": {
   "codemirror_mode": {
    "name": "ipython",
    "version": 3
   },
   "file_extension": ".py",
   "mimetype": "text/x-python",
   "name": "python",
   "nbconvert_exporter": "python",
   "pygments_lexer": "ipython3",
   "version": "3.6.6"
  }
 },
 "nbformat": 4,
 "nbformat_minor": 2
}
