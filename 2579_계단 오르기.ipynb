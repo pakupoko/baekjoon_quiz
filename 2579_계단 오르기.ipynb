{
 "cells": [
  {
   "cell_type": "code",
   "execution_count": 39,
   "metadata": {},
   "outputs": [
    {
     "name": "stdout",
     "output_type": "stream",
     "text": [
      "6\n",
      "10\n",
      "20\n",
      "15\n",
      "10\n",
      "25\n",
      "20\n",
      "80\n"
     ]
    }
   ],
   "source": [
    "n = int(input())\n",
    "ls = []\n",
    "score = []\n",
    "for i in range(n):\n",
    "    ls.append(int(input()))\n",
    "    score.append(0)\n",
    "\n",
    "if len(ls)==1:\n",
    "    print(ls[0])\n",
    "    \n",
    "elif len(ls)==2:\n",
    "    print(ls[0]+ls[1])\n",
    "\n",
    "elif len(ls)==3:\n",
    "    print(max(ls[0]+ls[2],ls[1]+ls[2]))\n",
    "    \n",
    "else:\n",
    "    score[0] = ls[0]\n",
    "    score[1] = max(ls[0]+ls[1], ls[1])\n",
    "    score[2] = max(ls[0]+ls[2], ls[1]+ls[2])\n",
    "\n",
    "    for i in range(3, len(ls)):\n",
    "        score[i] += max(score[i-3]+ls[i-1]+ls[i], score[i-2]+ls[i])\n",
    "\n",
    "    print(score[-1])"
   ]
  },
  {
   "cell_type": "code",
   "execution_count": null,
   "metadata": {},
   "outputs": [],
   "source": []
  }
 ],
 "metadata": {
  "kernelspec": {
   "display_name": "Python 3",
   "language": "python",
   "name": "python3"
  },
  "language_info": {
   "codemirror_mode": {
    "name": "ipython",
    "version": 3
   },
   "file_extension": ".py",
   "mimetype": "text/x-python",
   "name": "python",
   "nbconvert_exporter": "python",
   "pygments_lexer": "ipython3",
   "version": "3.6.6"
  }
 },
 "nbformat": 4,
 "nbformat_minor": 2
}
